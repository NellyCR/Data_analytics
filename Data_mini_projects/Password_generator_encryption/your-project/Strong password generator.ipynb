{
 "cells": [
  {
   "cell_type": "code",
   "execution_count": 18,
   "metadata": {},
   "outputs": [
    {
     "name": "stdout",
     "output_type": "stream",
     "text": [
      "\n",
      "Do you want me to help you create a strong password?yes\n",
      "Ok, there you go!\n",
      "\n",
      "l?eM_oE-2BfI\n"
     ]
    }
   ],
   "source": [
    "import string\n",
    "from random import * \n",
    " \n",
    "\n",
    "all_characters = string.ascii_letters+string.digits+string.punctuation\n",
    "password = [ ]\n",
    "\n",
    "\n",
    "def password_generator():\n",
    "    print(\"\")\n",
    "    answer = input(\"Do you want me to help you create a strong password?\")\n",
    "    if answer == \"yes\" or answer == \"YES\":\n",
    "        print(\"Ok, there you go!\")\n",
    "        print(\"\")\n",
    "        for i in range (12):\n",
    "            random_char = \"\".join(choice(all_characters)) \n",
    "            password.append(random_char)\n",
    "        print(\"\".join(password))\n",
    "    elif answer == \"no\" or answer == \"NO\":\n",
    "        print(\"\")\n",
    "        print (\"Ok, no problem Goodbye!\")\n",
    "    else:\n",
    "        print(\"\")\n",
    "        print(\"Sorry try again! Please type YES or NO\")\n",
    "        return password_generator()  \n",
    "    \n",
    "password_generator()\n",
    "  "
   ]
  },
  {
   "cell_type": "code",
   "execution_count": 2,
   "metadata": {},
   "outputs": [
    {
     "name": "stdout",
     "output_type": "stream",
     "text": [
      "Requirement already satisfied: cryptography in /usr/local/Cellar/jupyterlab/2.1.4/libexec/lib/python3.8/site-packages (3.0)\n",
      "Requirement already satisfied: six>=1.4.1 in /usr/local/Cellar/jupyterlab/2.1.4/libexec/lib/python3.8/site-packages (from cryptography) (1.15.0)\n",
      "Requirement already satisfied: cffi!=1.11.3,>=1.8 in /usr/local/Cellar/jupyterlab/2.1.4/libexec/lib/python3.8/site-packages (from cryptography) (1.14.1)\n",
      "Requirement already satisfied: pycparser in /usr/local/Cellar/jupyterlab/2.1.4/libexec/lib/python3.8/site-packages (from cffi!=1.11.3,>=1.8->cryptography) (2.20)\n",
      "\u001b[33mWARNING: You are using pip version 20.1.1; however, version 20.2 is available.\n",
      "You should consider upgrading via the '/usr/local/Cellar/jupyterlab/2.1.4/libexec/bin/python3.8 -m pip install --upgrade pip' command.\u001b[0m\n"
     ]
    }
   ],
   "source": [
    "import sys\n",
    "!{sys.executable} -m pip install cryptography"
   ]
  },
  {
   "cell_type": "code",
   "execution_count": 19,
   "metadata": {},
   "outputs": [
    {
     "name": "stdout",
     "output_type": "stream",
     "text": [
      " This is your secret key:  b'n7Q1t8d1mYw2Rqo3HQPiXEvTEDl6Bh0OiS5HWWwg7oM='\n",
      "\n",
      "This is the encrypted password:  b'gAAAAABfJC35cKOn1lzE5OPLCc3FFLD_GLobuHBnsP66xbtTapo_4-JXI3xgD-mJFdh0-IDQC9GjS7QNwODgl2C2GqRGTCgIXBP-HaGun8htY7FKo8BhoXLyznMJMQW-PVbNHH4cOTfVUwZMsgHOnb1q-SEG6ppZvg=='\n",
      "\n",
      "This is your password:  ['l', '?', 'e', 'M', '_', 'o', 'E', '-', '2', 'B', 'f', 'I']\n"
     ]
    }
   ],
   "source": [
    "from cryptography.fernet import Fernet\n",
    "\n",
    "message = str(password).encode()\n",
    "key = Fernet.generate_key() # Store this new key or use the one you already have!\n",
    "my_secret_key = Fernet(key)\n",
    "\n",
    "encrypted = my_secret_key.encrypt(message)\n",
    "decrypted = my_secret_key.decrypt(encrypted)\n",
    "\n",
    "\n",
    "print(\" This is your secret key: \",key)\n",
    "print()\n",
    "print(\"This is the encrypted password: \", encrypted)\n",
    "print()\n",
    "print(\"This is your password: \",\"\".join(decrypted.decode()))\n"
   ]
  },
  {
   "cell_type": "code",
   "execution_count": 15,
   "metadata": {},
   "outputs": [],
   "source": [
    "# Fernet is a module form \"cryptography\" library, is  used for symmetric encryption.\n",
    "# Fernet.generate_key() help us to generate new secret keys, which is also called \"Fernet token\"\n",
    "# If you lose your secret key you’ll no longer be able to decrypt the message!\n",
    "\n",
    "\n",
    "# NOTE: encrypt() is base64 encoding, meaning converting binary to 64 different ASCII characters!\n",
    "# That is why we need encode() in order to convert a str into bytes \n",
    "# A great article about how base64 is used : https://medium.com/swlh/powering-the-internet-with-base64-d823ec5df747\n",
    "# Hint : most used to protect media files from corruption "
   ]
  },
  {
   "cell_type": "code",
   "execution_count": null,
   "metadata": {},
   "outputs": [],
   "source": []
  }
 ],
 "metadata": {
  "kernelspec": {
   "display_name": "Python 3",
   "language": "python",
   "name": "python3"
  },
  "language_info": {
   "codemirror_mode": {
    "name": "ipython",
    "version": 3
   },
   "file_extension": ".py",
   "mimetype": "text/x-python",
   "name": "python",
   "nbconvert_exporter": "python",
   "pygments_lexer": "ipython3",
   "version": "3.8.3"
  }
 },
 "nbformat": 4,
 "nbformat_minor": 4
}
