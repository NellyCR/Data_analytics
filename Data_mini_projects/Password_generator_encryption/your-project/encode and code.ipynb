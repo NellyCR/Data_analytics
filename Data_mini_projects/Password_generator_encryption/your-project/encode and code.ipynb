{
 "cells": [
  {
   "cell_type": "code",
   "execution_count": 4,
   "metadata": {},
   "outputs": [
    {
     "name": "stdout",
     "output_type": "stream",
     "text": [
      "Collecting cryptography\n",
      "  Using cached cryptography-3.0-cp35-abi3-macosx_10_10_x86_64.whl (1.8 MB)\n",
      "Requirement already satisfied: six>=1.4.1 in /usr/local/Cellar/jupyterlab/2.1.4/libexec/lib/python3.8/site-packages (from cryptography) (1.15.0)\n",
      "Collecting cffi!=1.11.3,>=1.8\n",
      "  Using cached cffi-1.14.1-cp38-cp38-macosx_10_9_x86_64.whl (176 kB)\n",
      "Collecting pycparser\n",
      "  Using cached pycparser-2.20-py2.py3-none-any.whl (112 kB)\n",
      "Installing collected packages: pycparser, cffi, cryptography\n",
      "Successfully installed cffi-1.14.1 cryptography-3.0 pycparser-2.20\n",
      "\u001b[33mWARNING: You are using pip version 20.1.1; however, version 20.2 is available.\n",
      "You should consider upgrading via the '/usr/local/Cellar/jupyterlab/2.1.4/libexec/bin/python3.8 -m pip install --upgrade pip' command.\u001b[0m\n"
     ]
    }
   ],
   "source": [
    "import sys\n",
    "!{sys.executable} -m pip install cryptography\n"
   ]
  },
  {
   "cell_type": "code",
   "execution_count": 5,
   "metadata": {},
   "outputs": [
    {
     "data": {
      "text/plain": [
       "True"
      ]
     },
     "execution_count": 5,
     "metadata": {},
     "output_type": "execute_result"
    }
   ],
   "source": [
    "from cryptography.fernet import Fernet\n",
    "message = \"my deep dark secret\".encode()\n",
    "key = Fernet.generate_key() # Store this key or get if you already have it\n",
    "f = Fernet(key)\n",
    "encrypted = f.encrypt(message)\n",
    "decrypted = f.decrypt(encrypted)\n",
    "message == decrypted"
   ]
  },
  {
   "cell_type": "code",
   "execution_count": null,
   "metadata": {},
   "outputs": [],
   "source": []
  },
  {
   "cell_type": "code",
   "execution_count": null,
   "metadata": {},
   "outputs": [],
   "source": []
  },
  {
   "cell_type": "code",
   "execution_count": null,
   "metadata": {},
   "outputs": [],
   "source": []
  }
 ],
 "metadata": {
  "kernelspec": {
   "display_name": "Python 3",
   "language": "python",
   "name": "python3"
  },
  "language_info": {
   "codemirror_mode": {
    "name": "ipython",
    "version": 3
   },
   "file_extension": ".py",
   "mimetype": "text/x-python",
   "name": "python",
   "nbconvert_exporter": "python",
   "pygments_lexer": "ipython3",
   "version": "3.8.3"
  }
 },
 "nbformat": 4,
 "nbformat_minor": 4
}
