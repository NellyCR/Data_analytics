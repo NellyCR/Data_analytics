{
 "cells": [
  {
   "cell_type": "markdown",
   "metadata": {},
   "source": [
    "# Inferential statistics\n",
    "\n",
    "The dataset used contains the statistics from the WNBA players for the 2016-2017 season. "
   ]
  },
  {
   "cell_type": "code",
   "execution_count": 1,
   "metadata": {},
   "outputs": [],
   "source": [
    "import pandas as pd\n",
    "import numpy as np\n",
    "pd.set_option('max_columns', 100)"
   ]
  },
  {
   "cell_type": "markdown",
   "metadata": {},
   "source": [
    "### Explore and clean\n",
    "\n"
   ]
  },
  {
   "cell_type": "code",
   "execution_count": 2,
   "metadata": {
    "scrolled": true
   },
   "outputs": [],
   "source": [
    "\n",
    "wnba = pd.read_csv('/Users/nelly/dataV2-labs/module-2/M2-mini-project2/data/wnba.csv')"
   ]
  },
  {
   "cell_type": "code",
   "execution_count": 3,
   "metadata": {},
   "outputs": [
    {
     "data": {
      "text/plain": [
       "Name            0\n",
       "Team            0\n",
       "Pos             0\n",
       "Height          0\n",
       "Weight          1\n",
       "BMI             1\n",
       "Birth_Place     0\n",
       "Birthdate       0\n",
       "Age             0\n",
       "College         0\n",
       "Experience      0\n",
       "Games Played    0\n",
       "MIN             0\n",
       "FGM             0\n",
       "FGA             0\n",
       "FG%             0\n",
       "3PM             0\n",
       "3PA             0\n",
       "3P%             0\n",
       "FTM             0\n",
       "FTA             0\n",
       "FT%             0\n",
       "OREB            0\n",
       "DREB            0\n",
       "REB             0\n",
       "AST             0\n",
       "STL             0\n",
       "BLK             0\n",
       "TO              0\n",
       "PTS             0\n",
       "DD2             0\n",
       "TD3             0\n",
       "dtype: int64"
      ]
     },
     "execution_count": 3,
     "metadata": {},
     "output_type": "execute_result"
    }
   ],
   "source": [
    "\n",
    "\n",
    "wnba.isnull().sum()"
   ]
  },
  {
   "cell_type": "code",
   "execution_count": 5,
   "metadata": {
    "scrolled": true
   },
   "outputs": [],
   "source": [
    "\n",
    "bmi_nan= wnba[(wnba['BMI'].isnull()==True)]\n",
    "\n",
    "# weight_nan # the same index 91\n",
    "# bmi_nan # index 91"
   ]
  },
  {
   "cell_type": "code",
   "execution_count": null,
   "metadata": {},
   "outputs": [],
   "source": [
    "\n",
    "\n",
    "wnba.shape # 143 rows or len(wnba.index)\n",
    "\n",
    "nan_perc = 1*100/143"
   ]
  },
  {
   "cell_type": "code",
   "execution_count": null,
   "metadata": {},
   "outputs": [],
   "source": [
    "\n",
    "wnba.dropna()\n",
    "wnba.shape # ok just one low less"
   ]
  },
  {
   "cell_type": "markdown",
   "metadata": {},
   "source": [
    "### Missing values"
   ]
  },
  {
   "cell_type": "code",
   "execution_count": null,
   "metadata": {},
   "outputs": [],
   "source": [
    "\n",
    "# Maybe when we can calculate a missing value using other values present in the df\n",
    "# When we have a lot of NaN values and it will affect the analysis"
   ]
  },
  {
   "cell_type": "code",
   "execution_count": null,
   "metadata": {},
   "outputs": [],
   "source": [
    "\n",
    "wnba.dtypes"
   ]
  },
  {
   "cell_type": "code",
   "execution_count": null,
   "metadata": {},
   "outputs": [],
   "source": [
    "# To change Weight from object to int we need to replace nan for zero\n",
    "# weight_nan= wnba[(wnba['Weight'].isnull()==True] = 0\n",
    "\n",
    "wnba['Weight'].loc[wnba['Weight'].isnull]\n",
    "wnba['Weight'].astype(int)\n",
    "#wnba['Weight'] = wnba['Weight'].apply(np.int64)"
   ]
  },
  {
   "cell_type": "markdown",
   "metadata": {},
   "source": [
    "**Check for outliers"
   ]
  },
  {
   "cell_type": "code",
   "execution_count": null,
   "metadata": {},
   "outputs": [],
   "source": [
    "\n",
    "\n",
    "wnba.describe()"
   ]
  },
  {
   "cell_type": "markdown",
   "metadata": {},
   "source": [
    "\n",
    "We have a lot of min values zero or really low with a max pretty high : \n",
    "3PM (0-88),3PA(0-225), 3P%(0-88), FTM (0-168),FTA (0-186),FT%(0-100),OREB5(0-113),DRB (0-226),AST(0-206),PTS (0-584)\n",
    "it would be interesting to see:\n",
    "\n",
    "Does the mx values belong to the same player?, how are they distributed among the players?\n",
    "\n",
    "What is the relation between those hight values and the other columns?\n",
    "\n",
    "Are they the result of going to the same college?, the games played?, their age and physical condition? \n"
   ]
  },
  {
   "cell_type": "markdown",
   "metadata": {},
   "source": [
    "**Save the cleaned data to a csv"
   ]
  },
  {
   "cell_type": "code",
   "execution_count": null,
   "metadata": {},
   "outputs": [],
   "source": [
    "\n",
    "\n",
    "wnba.to_csv('/Users/nelly/dataV2-labs/module-2/M2-mini-project2/data/wnba_clean.csv', index=False)"
   ]
  },
  {
   "cell_type": "code",
   "execution_count": null,
   "metadata": {},
   "outputs": [],
   "source": []
  }
 ],
 "metadata": {
  "kernelspec": {
   "display_name": "Python 3",
   "language": "python",
   "name": "python3"
  },
  "language_info": {
   "codemirror_mode": {
    "name": "ipython",
    "version": 3
   },
   "file_extension": ".py",
   "mimetype": "text/x-python",
   "name": "python",
   "nbconvert_exporter": "python",
   "pygments_lexer": "ipython3",
   "version": "3.8.3"
  }
 },
 "nbformat": 4,
 "nbformat_minor": 2
}
